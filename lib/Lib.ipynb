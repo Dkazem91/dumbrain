{
 "cells": [
  {
   "cell_type": "code",
   "execution_count": null,
   "metadata": {},
   "outputs": [],
   "source": [
    "%%file download.py\n",
    "import sys\n",
    "import os\n",
    "from os import path\n",
    "import time\n",
    "\n",
    "import tempfile\n",
    "from zipfile import ZipFile\n",
    "\n",
    "from tqdm import tqdm_notebook as tqdm\n",
    "import requests\n",
    "import urllib\n",
    "\n",
    "# Global\n",
    "_download_pbar = None\n",
    "\n",
    "def mkdirp( folder ):\n",
    "    if not path.exists( folder ):\n",
    "        print( f'Directory {folder} didn\\'t exist, making' )\n",
    "        os.makedirs( folder )\n",
    "\n",
    "def download( url, dest_file, show_progress=True ):\n",
    "    \"\"\"\n",
    "    Downloads file to given file. Path to file should exist. Uses _download_pbar\n",
    "    global\n",
    "    \"\"\"\n",
    "\n",
    "    def reporthook( count, part_size, total_size ):\n",
    "        global _download_pbar\n",
    "        if _download_pbar is None:\n",
    "            _download_pbar = tqdm( total = total_size )\n",
    "        _download_pbar.update( part_size )\n",
    "        \n",
    "    urllib.request.urlretrieve( url, dest_file, reporthook=reporthook )\n",
    "    global _download_pbar\n",
    "    _download_pbar.close()\n",
    "    _download_pbar = None\n",
    "\n",
    "def unzip( zip_filename, dest_folder ):\n",
    "    zip_file = ZipFile( zip_filename )\n",
    "\n",
    "    all_files = zip_file.infolist()\n",
    "    uncompressed_size = sum( ( file.file_size for file in zip_file.infolist() ) )\n",
    "\n",
    "    files = zip_file\n",
    "    with tqdm( total=uncompressed_size ) as pbar:\n",
    "        for file in all_files:\n",
    "            zip_file.extract( file, dest_folder )\n",
    "            pbar.update( file.file_size )\n",
    "\n",
    "def downloadAndUnzip( download_url, save_folder ):\n",
    "    mkdirp( save_folder )\n",
    "\n",
    "    temp_zip_filename = 'temp.zip'\n",
    "\n",
    "    with tempfile.TemporaryDirectory() as temp_dir:\n",
    "        full_temp_zip_filename = path.join( temp_dir, temp_zip_filename )\n",
    "        download( download_url, full_temp_zip_filename )\n",
    "        unzip( full_temp_zip_filename, save_folder )\n",
    "\n",
    "def validateArgs( argv ):\n",
    "    if not len( argv ) == 3:\n",
    "        print( 'Usage: download.py <url> <save folder>' )\n",
    "        sys.exit( 1 )\n",
    "    return argv[ 1 ], argv[ 2 ]\n",
    "\n",
    "if __name__ == '__main__':\n",
    "    download_url, save_folder = validateArgs( sys.argv )\n",
    "    print( f'Downloading and unzipping { download_url } to { save_folder }' )\n",
    "    downloadAndUnzip( download_url, save_folder )"
   ]
  },
  {
   "cell_type": "code",
   "execution_count": 32,
   "metadata": {},
   "outputs": [
    {
     "name": "stdout",
     "output_type": "stream",
     "text": [
      "Downloading and unzipping http://aiml.mikelyons.org/test.zip to data/lesson_1/\n"
     ]
    },
    {
     "data": {
      "application/vnd.jupyter.widget-view+json": {
       "model_id": "565dec5e521e49a2b73b8933709eae59",
       "version_major": 2,
       "version_minor": 0
      },
      "text/html": [
       "<p>Failed to display Jupyter Widget of type <code>HBox</code>.</p>\n",
       "<p>\n",
       "  If you're reading this message in the Jupyter Notebook or JupyterLab Notebook, it may mean\n",
       "  that the widgets JavaScript is still loading. If this message persists, it\n",
       "  likely means that the widgets JavaScript library is either not installed or\n",
       "  not enabled. See the <a href=\"https://ipywidgets.readthedocs.io/en/stable/user_install.html\">Jupyter\n",
       "  Widgets Documentation</a> for setup instructions.\n",
       "</p>\n",
       "<p>\n",
       "  If you're reading this message in another frontend (for example, a static\n",
       "  rendering on GitHub or <a href=\"https://nbviewer.jupyter.org/\">NBViewer</a>),\n",
       "  it may mean that your frontend doesn't currently support widgets.\n",
       "</p>\n"
      ],
      "text/plain": [
       "HBox(children=(IntProgress(value=0, max=3485), HTML(value='')))"
      ]
     },
     "metadata": {},
     "output_type": "display_data"
    },
    {
     "name": "stdout",
     "output_type": "stream",
     "text": [
      "\n"
     ]
    },
    {
     "data": {
      "application/vnd.jupyter.widget-view+json": {
       "model_id": "ef9bddb4dda24e518300fc0bfffe3265",
       "version_major": 2,
       "version_minor": 0
      },
      "text/html": [
       "<p>Failed to display Jupyter Widget of type <code>HBox</code>.</p>\n",
       "<p>\n",
       "  If you're reading this message in the Jupyter Notebook or JupyterLab Notebook, it may mean\n",
       "  that the widgets JavaScript is still loading. If this message persists, it\n",
       "  likely means that the widgets JavaScript library is either not installed or\n",
       "  not enabled. See the <a href=\"https://ipywidgets.readthedocs.io/en/stable/user_install.html\">Jupyter\n",
       "  Widgets Documentation</a> for setup instructions.\n",
       "</p>\n",
       "<p>\n",
       "  If you're reading this message in another frontend (for example, a static\n",
       "  rendering on GitHub or <a href=\"https://nbviewer.jupyter.org/\">NBViewer</a>),\n",
       "  it may mean that your frontend doesn't currently support widgets.\n",
       "</p>\n"
      ],
      "text/plain": [
       "HBox(children=(IntProgress(value=0, max=17389), HTML(value='')))"
      ]
     },
     "metadata": {},
     "output_type": "display_data"
    },
    {
     "name": "stdout",
     "output_type": "stream",
     "text": [
      "\n"
     ]
    },
    {
     "data": {
      "text/plain": [
       "['3Lfh0AubuTrR48TE5CZkfKejoYuRt0.csv', '__MACOSX']"
      ]
     },
     "execution_count": 32,
     "metadata": {},
     "output_type": "execute_result"
    }
   ],
   "source": [
    "%run download.py http://aiml.mikelyons.org/test.zip data/lesson_1/\n",
    "os.listdir( 'data/lesson_1' )"
   ]
  }
 ],
 "metadata": {
  "kernelspec": {
   "display_name": "Python 3",
   "language": "python",
   "name": "python3"
  },
  "language_info": {
   "codemirror_mode": {
    "name": "ipython",
    "version": 3
   },
   "file_extension": ".py",
   "mimetype": "text/x-python",
   "name": "python",
   "nbconvert_exporter": "python",
   "pygments_lexer": "ipython3",
   "version": "3.6.4"
  }
 },
 "nbformat": 4,
 "nbformat_minor": 2
}
