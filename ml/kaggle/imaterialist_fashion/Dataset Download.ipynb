{
 "cells": [
  {
   "cell_type": "code",
   "execution_count": 20,
   "metadata": {},
   "outputs": [],
   "source": [
    "import sys\n",
    "sys.path.append('..') # Adds higher directory to python modules path.\n",
    "import download\n",
    "\n",
    "download.download( 'imaterialist-challenge-fashion-2018' )"
   ]
  },
  {
   "cell_type": "code",
   "execution_count": 39,
   "metadata": {},
   "outputs": [],
   "source": [
    "import zipfile\n",
    "from pprint import pprint\n",
    "\n",
    "from __future__ import absolute_import\n",
    "from __future__ import division\n",
    "from __future__ import print_function\n",
    "\n",
    "import io\n",
    "import os\n",
    "import sys\n",
    "import json\n",
    "import urllib3\n",
    "import multiprocessing\n",
    "\n",
    "from PIL import Image\n",
    "from tqdm import tqdm\n",
    "from urllib3.util import Retry\n",
    "\n",
    "urllib3.disable_warnings(urllib3.exceptions.InsecureRequestWarning)"
   ]
  },
  {
   "cell_type": "code",
   "execution_count": 26,
   "metadata": {},
   "outputs": [
    {
     "name": "stdout",
     "output_type": "stream",
     "text": [
      "sample_submission.csv.zip\n",
      "test.json.zip\n",
      "train.json.zip\n",
      "validation.json.zip\n"
     ]
    }
   ],
   "source": [
    "data_path = 'data/'\n",
    "zip_files = os.listdir( data_path )\n",
    "for file in zip_files:\n",
    "    if not file.endswith( '.zip' ):\n",
    "        continue\n",
    "    print( file )\n",
    "    with zipfile.ZipFile( os.path.join( data_path, file ), 'r' ) as zip_ref:\n",
    "        zip_ref.extractall( data_path )"
   ]
  }
 ],
 "metadata": {
  "kernelspec": {
   "display_name": "Python 3",
   "language": "python",
   "name": "python3"
  },
  "language_info": {
   "codemirror_mode": {
    "name": "ipython",
    "version": 3
   },
   "file_extension": ".py",
   "mimetype": "text/x-python",
   "name": "python",
   "nbconvert_exporter": "python",
   "pygments_lexer": "ipython3",
   "version": "3.6.4"
  }
 },
 "nbformat": 4,
 "nbformat_minor": 2
}
