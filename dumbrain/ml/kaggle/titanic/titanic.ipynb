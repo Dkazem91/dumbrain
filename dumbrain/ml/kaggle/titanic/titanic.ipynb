{
 "cells": [
  {
   "cell_type": "code",
   "execution_count": 1,
   "metadata": {},
   "outputs": [],
   "source": [
    "%load_ext autoreload\n",
    "%autoreload 2"
   ]
  },
  {
   "cell_type": "code",
   "execution_count": 2,
   "metadata": {},
   "outputs": [],
   "source": [
    "import os\n",
    "import numpy as np\n",
    "import pandas as pd\n",
    "import matplotlib\n",
    "import matplotlib.pyplot as plt\n",
    "from sklearn.ensemble import RandomForestClassifier, AdaBoostClassifier\n",
    "from sklearn.neural_network import MLPClassifier\n",
    "\n",
    "from dumbrain.ml.kaggle.download import download\n",
    "from dumbrain.lib.cleaners import *\n",
    "\n",
    "%matplotlib inline"
   ]
  },
  {
   "cell_type": "code",
   "execution_count": 4,
   "metadata": {},
   "outputs": [],
   "source": [
    "data_files = download( 'titanic' )\n",
    "test_file, train_file, example_output = list( map( lambda file: 'data/' + file, data_files ) )"
   ]
  },
  {
   "cell_type": "code",
   "execution_count": 5,
   "metadata": {},
   "outputs": [],
   "source": [
    "all_train_data = pd.read_csv( train_file )\n",
    "all_test_data = pd.read_csv( test_file )\n",
    "all_example_data = pd.read_csv( example_output )"
   ]
  },
  {
   "cell_type": "code",
   "execution_count": 7,
   "metadata": {},
   "outputs": [],
   "source": [
    "train_data_uncleaned = all_train_data.sample( frac=0.8, random_state=4111 )\n",
    "validate_data_uncleaned = all_train_data.drop( train_data_uncleaned.index )"
   ]
  },
  {
   "cell_type": "code",
   "execution_count": 9,
   "metadata": {
    "scrolled": true
   },
   "outputs": [],
   "source": [
    "cleaners = [\n",
    "    RemoveColumnCleaner( 'PassengerId' ),\n",
    "#     NameSentimentColumnCleaner( 'Name', train_data_uncleaned, 'Survived', omit=[ 'mrs', 'miss', 'mr' ] ),\n",
    "    RemoveColumnCleaner( 'Name' ),  \n",
    "    DummyColumnCleaner( 'Sex', [ 'male', 'female' ] ),\n",
    "    RemoveColumnCleaner( 'Sex' ),\n",
    "    DummyColumnCleaner( 'Pclass', [ 1, 2, 3 ] ),\n",
    "    RemoveColumnCleaner( 'Ticket' ),                     # Todo: Use this data\n",
    "    RemoveColumnCleaner( 'Cabin' ),                      # Todo: Use this data\n",
    "    DummyColumnCleaner( 'Embarked', [ 'S', 'C', 'Q' ] ),\n",
    "    FillNaNDataCleaner( 0 )\n",
    "]\n",
    "\n",
    "train_data = cleanData( cleaners, train_data_uncleaned )\n",
    "validate_data = cleanData( cleaners, validate_data_uncleaned )"
   ]
  },
  {
   "cell_type": "code",
   "execution_count": 10,
   "metadata": {},
   "outputs": [],
   "source": [
    "model = RandomForestClassifier()"
   ]
  },
  {
   "cell_type": "code",
   "execution_count": 11,
   "metadata": {},
   "outputs": [
    {
     "data": {
      "text/plain": [
       "Index(['Survived', 'Age', 'SibSp', 'Parch', 'Fare', '_female_Sex', '_male_Sex',\n",
       "       '_1_Pclass', '_2_Pclass', '_3_Pclass', '_C_Embarked', '_Q_Embarked',\n",
       "       '_S_Embarked'],\n",
       "      dtype='object')"
      ]
     },
     "execution_count": 11,
     "metadata": {},
     "output_type": "execute_result"
    }
   ],
   "source": [
    "train_data.columns"
   ]
  },
  {
   "cell_type": "code",
   "execution_count": 18,
   "metadata": {},
   "outputs": [
    {
     "data": {
      "text/plain": [
       "RandomForestClassifier(bootstrap=True, class_weight=None, criterion='gini',\n",
       "            max_depth=None, max_features='auto', max_leaf_nodes=None,\n",
       "            min_impurity_decrease=0.0, min_impurity_split=None,\n",
       "            min_samples_leaf=1, min_samples_split=2,\n",
       "            min_weight_fraction_leaf=0.0, n_estimators=10, n_jobs=None,\n",
       "            oob_score=False, random_state=None, verbose=0,\n",
       "            warm_start=False)"
      ]
     },
     "execution_count": 18,
     "metadata": {},
     "output_type": "execute_result"
    }
   ],
   "source": [
    "model.fit( train_data.drop( 'Survived', axis=1 ), train_data[ 'Survived' ] )"
   ]
  },
  {
   "cell_type": "code",
   "execution_count": 19,
   "metadata": {},
   "outputs": [
    {
     "data": {
      "text/plain": [
       "0.8033707865168539"
      ]
     },
     "execution_count": 19,
     "metadata": {},
     "output_type": "execute_result"
    }
   ],
   "source": [
    "model.score( validate_data.drop( 'Survived', axis=1 ), validate_data[ 'Survived' ] )"
   ]
  },
  {
   "cell_type": "code",
   "execution_count": 20,
   "metadata": {},
   "outputs": [],
   "source": [
    "test_data_cleaned = cleanData( cleaners, all_test_data )\n",
    "predicted = model.predict( test_data_cleaned )\n",
    "\n",
    "output = pd.DataFrame( { 'PassengerId': all_test_data[ 'PassengerId' ], 'Survived': predicted } )\n",
    "output = output.set_index( 'PassengerId' )"
   ]
  },
  {
   "cell_type": "code",
   "execution_count": 21,
   "metadata": {},
   "outputs": [],
   "source": [
    "output.to_csv( 'data/results.csv' )"
   ]
  }
 ],
 "metadata": {
  "hide_input": false,
  "kernelspec": {
   "display_name": "Python 3",
   "language": "python",
   "name": "python3"
  },
  "language_info": {
   "codemirror_mode": {
    "name": "ipython",
    "version": 3
   },
   "file_extension": ".py",
   "mimetype": "text/x-python",
   "name": "python",
   "nbconvert_exporter": "python",
   "pygments_lexer": "ipython3",
   "version": "3.6.5"
  }
 },
 "nbformat": 4,
 "nbformat_minor": 2
}
