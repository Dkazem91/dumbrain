{
 "cells": [
  {
   "cell_type": "code",
   "execution_count": 17,
   "metadata": {},
   "outputs": [],
   "source": [
    "%reload_ext autoreload\n",
    "%autoreload 2\n",
    "%matplotlib inline"
   ]
  },
  {
   "cell_type": "code",
   "execution_count": 19,
   "metadata": {},
   "outputs": [],
   "source": [
    "from dumbrain.lib.download import downloadAndUnzip\n",
    "import matplotlib.pyplot as plt"
   ]
  },
  {
   "cell_type": "markdown",
   "metadata": {},
   "source": [
    "# First, get the data"
   ]
  },
  {
   "cell_type": "code",
   "execution_count": 21,
   "metadata": {},
   "outputs": [
    {
     "name": "stderr",
     "output_type": "stream",
     "text": [
      "9478144it [00:07, 1324315.92it/s]                             \n",
      "100%|██████████| 4810560/4810560 [00:09<00:00, 493042.29it/s]\n",
      "6471680it [00:11, 1406943.60it/s]                             \n",
      "100%|██████████| 3371735/3371735 [00:07<00:00, 438596.71it/s]\n"
     ]
    }
   ],
   "source": [
    "downloadAndUnzip( 'https://github.com/brendenlake/omniglot/raw/master/python/images_background.zip', 'data/training/' )\n",
    "downloadAndUnzip( 'https://github.com/brendenlake/omniglot/raw/master/python/images_evaluation.zip', 'data/validation/' )"
   ]
  },
  {
   "cell_type": "code",
   "execution_count": 15,
   "metadata": {},
   "outputs": [
    {
     "name": "stdout",
     "output_type": "stream",
     "text": [
      "0710_01.png 0710_05.png 0710_09.png 0710_13.png 0710_17.png\r\n",
      "0710_02.png 0710_06.png 0710_10.png 0710_14.png 0710_18.png\r\n",
      "0710_03.png 0710_07.png 0710_11.png 0710_15.png 0710_19.png\r\n",
      "0710_04.png 0710_08.png 0710_12.png 0710_16.png 0710_20.png\r\n"
     ]
    },
    {
     "data": {
      "image/png": "[encoded data removed]",
      "text/plain": [
       "<IPython.core.display.Image object>"
      ]
     },
     "execution_count": 15,
     "metadata": {},
     "output_type": "execute_result"
    }
   ],
   "source": []
  }
 ],
 "metadata": {
  "kernelspec": {
   "display_name": "Python 3",
   "language": "python",
   "name": "python3"
  },
  "language_info": {
   "codemirror_mode": {
    "name": "ipython",
    "version": 3
   },
   "file_extension": ".py",
   "mimetype": "text/x-python",
   "name": "python",
   "nbconvert_exporter": "python",
   "pygments_lexer": "ipython3",
   "version": "3.6.5"
  }
 },
 "nbformat": 4,
 "nbformat_minor": 2
}
