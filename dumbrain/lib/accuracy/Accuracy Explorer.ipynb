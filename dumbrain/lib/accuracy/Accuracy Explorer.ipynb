{
 "cells": [
  {
   "cell_type": "code",
   "execution_count": 23,
   "metadata": {},
   "outputs": [],
   "source": [
    "%reload_ext autoreload\n",
    "%autoreload 2\n",
    "%matplotlib inline"
   ]
  },
  {
   "cell_type": "code",
   "execution_count": 24,
   "metadata": {},
   "outputs": [],
   "source": [
    "from dumbrain.lib.accuracy import Algorithm, TestSetGenerator, Test, TestSet, testAlgorithm, LogHandler, SQLOutputHandler, loadSQLHistory\n",
    "from dumbrain.lib.accuracy.plot import plotTestSetHistory"
   ]
  },
  {
   "cell_type": "code",
   "execution_count": 25,
   "metadata": {},
   "outputs": [],
   "source": [
    "sqlite_filename = './accuracy_explorer.sql'"
   ]
  },
  {
   "cell_type": "code",
   "execution_count": 26,
   "metadata": {},
   "outputs": [],
   "source": [
    "class SometimesDoubleAlgorithm( Algorithm ):\n",
    "    def __init__( self, **kwargs ):\n",
    "        super( SometimesDoubleAlgorithm, self ).__init__( **kwargs );\n",
    "\n",
    "    def _run( self, input, parameters ):\n",
    "        if input < parameters[ 'threshold' ]:\n",
    "            return input * 2\n",
    "        return input"
   ]
  },
  {
   "cell_type": "code",
   "execution_count": 27,
   "metadata": {},
   "outputs": [],
   "source": [
    "class SequentialTestSetGenerator( TestSetGenerator ):\n",
    "    def generate( self ):\n",
    "        tests = []\n",
    "        for i in range( 9 ):\n",
    "            tests.append( Test( i, i*2, id=( 'test_' + str( i ) ) ) )\n",
    "        return TestSet( tests )"
   ]
  },
  {
   "cell_type": "code",
   "execution_count": 31,
   "metadata": {},
   "outputs": [
    {
     "name": "stdout",
     "output_type": "stream",
     "text": [
      "Initializing migration table\n",
      "Doing migration:  0\n",
      "Individual tests: \n",
      "\t test_0 {'valid': 1}\n",
      "\t test_1 {'valid': 1}\n",
      "\t test_2 {'valid': 1}\n",
      "\t test_3 {'valid': 1}\n",
      "\t test_4 {'valid': 1}\n",
      "\t test_5 {'valid': 1}\n",
      "\t test_6 {'valid': 1}\n",
      "\t test_7 {'valid': 0}\n",
      "\t test_8 {'valid': 0}\n",
      "Test set:\n",
      "\t {'percent_correct': 0.7777777777777778}\n"
     ]
    }
   ],
   "source": [
    "algorithm = SometimesDoubleAlgorithm(\n",
    "    id='SometimesDouble',\n",
    "    version='0.1',\n",
    "    description='Doubles sometimes?',\n",
    "    parameters={\n",
    "        'threshold': 7\n",
    "    },\n",
    ")\n",
    "generator = SequentialTestSetGenerator()\n",
    "\n",
    "sql_handler = SQLOutputHandler( sqlite_filename )\n",
    "\n",
    "testAlgorithm( algorithm, generator, output_handlers=[ LogHandler(), sql_handler ] )"
   ]
  },
  {
   "cell_type": "code",
   "execution_count": 32,
   "metadata": {},
   "outputs": [
    {
     "name": "stdout",
     "output_type": "stream",
     "text": [
      "Individual tests: \n",
      "\t test_0 {'valid': 1}\n",
      "\t test_1 {'valid': 1}\n",
      "\t test_2 {'valid': 1}\n",
      "\t test_3 {'valid': 1}\n",
      "\t test_4 {'valid': 1}\n",
      "\t test_5 {'valid': 1}\n",
      "\t test_6 {'valid': 1}\n",
      "\t test_7 {'valid': 1}\n",
      "\t test_8 {'valid': 0}\n",
      "Test set:\n",
      "\t {'percent_correct': 0.8888888888888888}\n"
     ]
    }
   ],
   "source": [
    "algorithm = SometimesDoubleAlgorithm(\n",
    "    id='SometimesDouble',\n",
    "    version='0.1',\n",
    "    description='Doubles sometimes?',\n",
    "    parameters={\n",
    "        'threshold': 8\n",
    "    },\n",
    ")\n",
    "testAlgorithm( algorithm, generator, output_handlers=[ LogHandler(), sql_handler ] )"
   ]
  },
  {
   "cell_type": "code",
   "execution_count": 33,
   "metadata": {},
   "outputs": [
    {
     "name": "stdout",
     "output_type": "stream",
     "text": [
      "{\"percent_correct\": 0.7777777777777778}\n",
      "{\"percent_correct\": 0.8888888888888888}\n"
     ]
    },
    {
     "data": {
      "text/plain": [
       "[<dumbrain.lib.accuracy.core.TestSetResult at 0x7fad7f969cf8>,\n",
       " <dumbrain.lib.accuracy.core.TestSetResult at 0x7fad7f969c18>]"
      ]
     },
     "execution_count": 33,
     "metadata": {},
     "output_type": "execute_result"
    }
   ],
   "source": [
    "test_set_history = loadSQLHistory( sqlite_filename )\n",
    "test_set_history"
   ]
  },
  {
   "cell_type": "code",
   "execution_count": 34,
   "metadata": {},
   "outputs": [
    {
     "name": "stdout",
     "output_type": "stream",
     "text": [
      "[1 2]\n",
      "[0.77777778 0.88888889]\n"
     ]
    },
    {
     "data": {
      "image/png": "[encoded data removed]",
      "text/plain": [
       "<Figure size 432x288 with 1 Axes>"
      ]
     },
     "metadata": {},
     "output_type": "display_data"
    }
   ],
   "source": [
    "plotTestSetHistory( test_set_history, 'percent_correct' )"
   ]
  },
  {
   "cell_type": "code",
   "execution_count": null,
   "metadata": {},
   "outputs": [],
   "source": []
  }
 ],
 "metadata": {
  "kernelspec": {
   "display_name": "Python 3",
   "language": "python",
   "name": "python3"
  },
  "language_info": {
   "codemirror_mode": {
    "name": "ipython",
    "version": 3
   },
   "file_extension": ".py",
   "mimetype": "text/x-python",
   "name": "python",
   "nbconvert_exporter": "python",
   "pygments_lexer": "ipython3",
   "version": "3.6.5"
  }
 },
 "nbformat": 4,
 "nbformat_minor": 2
}
