{
 "cells": [
  {
   "cell_type": "code",
   "execution_count": 30,
   "metadata": {},
   "outputs": [],
   "source": [
    "import numpy as np\n",
    "import os\n",
    "from os import path\n",
    "import matplotlib.pyplot as plt\n",
    "# Use scipy.misc.imread because we want to be able to specify mode='RGBA'\n",
    "# TODO: Investigate deprecation warning\n",
    "import scipy.misc\n",
    "\n",
    "from EightBitTemplateMatcher import imageTo8BitColor"
   ]
  },
  {
   "cell_type": "code",
   "execution_count": 4,
   "metadata": {},
   "outputs": [],
   "source": [
    "%reload_ext autoreload\n",
    "%autoreload 2\n",
    "%matplotlib inline"
   ]
  },
  {
   "cell_type": "code",
   "execution_count": 126,
   "metadata": {},
   "outputs": [
    {
     "name": "stderr",
     "output_type": "stream",
     "text": [
      "/Users/mike/.pyenv/versions/3.6.5/lib/python3.6/site-packages/ipykernel_launcher.py:15: DeprecationWarning: `imread` is deprecated!\n",
      "`imread` is deprecated in SciPy 1.0.0, and will be removed in 1.2.0.\n",
      "Use ``imageio.imread`` instead.\n",
      "  from ipykernel import kernelapp as app\n",
      "/Users/mike/.pyenv/versions/3.6.5/lib/python3.6/site-packages/ipykernel_launcher.py:23: DeprecationWarning: `imread` is deprecated!\n",
      "`imread` is deprecated in SciPy 1.0.0, and will be removed in 1.2.0.\n",
      "Use ``imageio.imread`` instead.\n",
      "/Users/mike/.pyenv/versions/3.6.5/lib/python3.6/site-packages/ipykernel_launcher.py:27: DeprecationWarning: `imread` is deprecated!\n",
      "`imread` is deprecated in SciPy 1.0.0, and will be removed in 1.2.0.\n",
      "Use ``imageio.imread`` instead.\n"
     ]
    },
    {
     "name": "stdout",
     "output_type": "stream",
     "text": [
      "(83, 2, 256, 256)\n"
     ]
    }
   ],
   "source": [
    "def loadChunks( path_to_chunks_dir, col_postfix = '_col', pri_postfix = '_pri', include_filenames=False ):\n",
    "    all_chunk_files = os.listdir( path_to_chunks_dir )\n",
    "    all_chunk_files.sort()\n",
    "\n",
    "    chunk_filenames = list(\n",
    "        filter(\n",
    "            lambda filename: (\n",
    "                col_postfix not in filename and\n",
    "                pri_postfix not in filename\n",
    "            ), all_chunk_files\n",
    "        )\n",
    "    )\n",
    "\n",
    "    # Get one block so we know the size for our numpy arr. Assume all blocks are the same size\n",
    "    sample_image = scipy.misc.imread( path.join( path_to_chunks_dir, chunk_filenames[ 0 ] ), mode='RGBA' )\n",
    "    # ( samples, (image, collision map), w, h )\n",
    "    chunks = np.zeros( ( len( chunk_filenames ), 2, sample_image.shape[ 0 ], sample_image.shape[ 1 ] ) )\n",
    "\n",
    "    for i, chunk_filename in enumerate( chunk_filenames ):\n",
    "        chunk_filename = path.join( path_to_chunks_dir, chunk_filename )\n",
    "        col_filename = path.splitext( chunk_filename )[ 0 ] + col_postfix + path.splitext( chunk_filename )[ 1 ]\n",
    "\n",
    "        chunk_image = scipy.misc.imread( chunk_filename, mode='RGBA' )\n",
    "        chunk_image = imageTo8BitColor( chunk_image )[ 0 ]\n",
    "        chunks[ i, 0, :, : ] = chunk_image\n",
    "\n",
    "        col_image = scipy.misc.imread( col_filename, mode='RGBA' )\n",
    "        col_image_flattened = np.logical_not( # Where not pink\n",
    "            np.logical_and(\n",
    "                col_image[ :, :, 0 ] == 255, \n",
    "                col_image[ :, :, 1 ] == 0, \n",
    "                col_image[ :, :, 2 ] == 255 \n",
    "            ) \n",
    "        ) * 255\n",
    "        chunks[ i, 1, :, : ] = col_image_flattened\n",
    "\n",
    "    if include_filenames:\n",
    "        return chunks, chunk_filenames\n",
    "    return chunks\n",
    "\n",
    "chunks, chunk_filenames = loadChunks( 'data/Green Hill Zone Act 1/chunks/', include_filenames=True )\n",
    "print( chunks.shape )"
   ]
  },
  {
   "cell_type": "code",
   "execution_count": 129,
   "metadata": {},
   "outputs": [
    {
     "name": "stdout",
     "output_type": "stream",
     "text": [
      "53.png\n"
     ]
    },
    {
     "data": {
      "text/plain": [
       "<matplotlib.image.AxesImage at 0x1298f60b8>"
      ]
     },
     "execution_count": 129,
     "metadata": {},
     "output_type": "execute_result"
    },
    {
     "data": {
      "image/png": "[encoded data removed]",
      "text/plain": [
       "<Figure size 432x288 with 1 Axes>"
      ]
     },
     "metadata": {},
     "output_type": "display_data"
    },
    {
     "data": {
      "image/png": "[encoded data removed]",
      "text/plain": [
       "<Figure size 432x288 with 1 Axes>"
      ]
     },
     "metadata": {},
     "output_type": "display_data"
    }
   ],
   "source": [
    "image_idx = 49 # Loop\n",
    "# image_idx = np.random.randint( chunks.shape[ 0 ] )\n",
    "print( chunk_filenames[ image_idx ] )\n",
    "plt.imshow( chunks[ image_idx, 0, :, : ] )\n",
    "plt.subplots()\n",
    "plt.imshow( chunks[ image_idx, 1, :, : ] )"
   ]
  },
  {
   "cell_type": "code",
   "execution_count": 100,
   "metadata": {},
   "outputs": [
    {
     "data": {
      "text/plain": [
       "49"
      ]
     },
     "execution_count": 100,
     "metadata": {},
     "output_type": "execute_result"
    }
   ],
   "source": [
    "random_image_idx"
   ]
  }
 ],
 "metadata": {
  "kernelspec": {
   "display_name": "Python 3",
   "language": "python",
   "name": "python3"
  },
  "language_info": {
   "codemirror_mode": {
    "name": "ipython",
    "version": 3
   },
   "file_extension": ".py",
   "mimetype": "text/x-python",
   "name": "python",
   "nbconvert_exporter": "python",
   "pygments_lexer": "ipython3",
   "version": "3.6.5"
  }
 },
 "nbformat": 4,
 "nbformat_minor": 2
}
