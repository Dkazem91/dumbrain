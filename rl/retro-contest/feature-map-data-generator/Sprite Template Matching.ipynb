{
 "cells": [
  {
   "cell_type": "code",
   "execution_count": 20,
   "metadata": {},
   "outputs": [],
   "source": [
    "import retro\n",
    "import matplotlib.pyplot as plt\n",
    "import numpy as np\n",
    "import cv2 as cv\n",
    "\n",
    "%matplotlib inline\n",
    "env = None"
   ]
  },
  {
   "cell_type": "code",
   "execution_count": 13,
   "metadata": {},
   "outputs": [],
   "source": [
    "if env is None:\n",
    "    env = retro.make(game='SonicTheHedgehog2-Genesis', state='EmeraldHillZone.Act1', record='.')\n",
    "_ = env.reset()\n",
    "for i in range( 10 ):\n",
    "    env.step( np.zeros( env.action_space.shape ) )\n",
    "frame, reward, done, info = env.step( env.action_space.sample() )"
   ]
  },
  {
   "cell_type": "code",
   "execution_count": 16,
   "metadata": {},
   "outputs": [
    {
     "data": {
      "text/plain": [
       "<matplotlib.image.AxesImage at 0x7f5edaafde48>"
      ]
     },
     "execution_count": 16,
     "metadata": {},
     "output_type": "execute_result"
    },
    {
     "data": {
      "image/png": "[encoded data removed]",
      "text/plain": [
       "<Figure size 432x288 with 1 Axes>"
      ]
     },
     "metadata": {},
     "output_type": "display_data"
    }
   ],
   "source": [
    "plt.imshow( frame )"
   ]
  },
  {
   "cell_type": "markdown",
   "metadata": {},
   "source": [
    "So we know it's Standing/1.bmp, let's try just finding that in the image and highlighting it"
   ]
  },
  {
   "cell_type": "code",
   "execution_count": 80,
   "metadata": {},
   "outputs": [
    {
     "data": {
      "text/plain": [
       "\u001b[0;31mSignature:\u001b[0m \u001b[0mplt\u001b[0m\u001b[0;34m.\u001b[0m\u001b[0mimread\u001b[0m\u001b[0;34m(\u001b[0m\u001b[0;34m*\u001b[0m\u001b[0margs\u001b[0m\u001b[0;34m,\u001b[0m \u001b[0;34m**\u001b[0m\u001b[0mkwargs\u001b[0m\u001b[0;34m)\u001b[0m\u001b[0;34m\u001b[0m\u001b[0m\n",
       "\u001b[0;31mDocstring:\u001b[0m\n",
       "Read an image from a file into an array.\n",
       "\n",
       "*fname* may be a string path, a valid URL, or a Python\n",
       "file-like object.  If using a file object, it must be opened in binary\n",
       "mode.\n",
       "\n",
       "If *format* is provided, will try to read file of that type,\n",
       "otherwise the format is deduced from the filename.  If nothing can\n",
       "be deduced, PNG is tried.\n",
       "\n",
       "Return value is a :class:`numpy.array`.  For grayscale images, the\n",
       "return array is MxN.  For RGB images, the return value is MxNx3.\n",
       "For RGBA images the return value is MxNx4.\n",
       "\n",
       "matplotlib can only read PNGs natively, but if `PIL\n",
       "<http://www.pythonware.com/products/pil/>`_ is installed, it will\n",
       "use it to load the image and return an array (if possible) which\n",
       "can be used with :func:`~matplotlib.pyplot.imshow`. Note, URL strings\n",
       "may not be compatible with PIL. Check the PIL documentation for more\n",
       "information.\n",
       "\u001b[0;31mSource:\u001b[0m   \n",
       "\u001b[0;34m@\u001b[0m\u001b[0mdocstring\u001b[0m\u001b[0;34m.\u001b[0m\u001b[0mcopy_dedent\u001b[0m\u001b[0;34m(\u001b[0m\u001b[0m_imread\u001b[0m\u001b[0;34m)\u001b[0m\u001b[0;34m\u001b[0m\n",
       "\u001b[0;34m\u001b[0m\u001b[0;32mdef\u001b[0m \u001b[0mimread\u001b[0m\u001b[0;34m(\u001b[0m\u001b[0;34m*\u001b[0m\u001b[0margs\u001b[0m\u001b[0;34m,\u001b[0m \u001b[0;34m**\u001b[0m\u001b[0mkwargs\u001b[0m\u001b[0;34m)\u001b[0m\u001b[0;34m:\u001b[0m\u001b[0;34m\u001b[0m\n",
       "\u001b[0;34m\u001b[0m    \u001b[0;32mreturn\u001b[0m \u001b[0m_imread\u001b[0m\u001b[0;34m(\u001b[0m\u001b[0;34m*\u001b[0m\u001b[0margs\u001b[0m\u001b[0;34m,\u001b[0m \u001b[0;34m**\u001b[0m\u001b[0mkwargs\u001b[0m\u001b[0;34m)\u001b[0m\u001b[0;34m\u001b[0m\u001b[0m\n",
       "\u001b[0;31mFile:\u001b[0m      ~/.pyenv/versions/3.6.5/lib/python3.6/site-packages/matplotlib/pyplot.py\n",
       "\u001b[0;31mType:\u001b[0m      function\n"
      ]
     },
     "metadata": {},
     "output_type": "display_data"
    }
   ],
   "source": [
    "??plt.imread"
   ]
  },
  {
   "cell_type": "code",
   "execution_count": 82,
   "metadata": {},
   "outputs": [
    {
     "data": {
      "text/plain": [
       "<matplotlib.image.AxesImage at 0x7f5ed32cff98>"
      ]
     },
     "execution_count": 82,
     "metadata": {},
     "output_type": "execute_result"
    },
    {
     "data": {
      "image/png": "[encoded data removed]",
      "text/plain": [
       "<Figure size 432x288 with 1 Axes>"
      ]
     },
     "metadata": {},
     "output_type": "display_data"
    }
   ],
   "source": [
    "sonic_standing_1 = plt.imread( 'data/Sonic/Wait/1.png' )\n",
    "\n",
    "sonic_standing_1 *= 255\n",
    "sonic_standing_1 = sonic_standing_1.astype( int )\n",
    "\n",
    "sonic_standing_1_clean = sonic_standing_1.copy()\n",
    "pink = np.array( [ 255, 0, 255 ] )\n",
    "\n",
    "where_pink = np.logical_and( \n",
    "    sonic_standing_1_clean[ :, :, 0 ] == 255,\n",
    "    sonic_standing_1_clean[ :, :, 2 ] == 255,\n",
    "    sonic_standing_1_clean[ :, :, 3 ] == 255,\n",
    ")\n",
    "\n",
    "sonic_standing_1_clean[ where_pink ] = [ 0, 0, 0, 0 ]\n",
    "\n",
    "# https://codereview.stackexchange.com/a/132933\n",
    "\n",
    "padding_mask = np.logical_not(\n",
    "    np.logical_and( \n",
    "        sonic_standing_1_clean[ :, :, 0 ] == 0,\n",
    "        sonic_standing_1_clean[ :, :, 1 ] == 0,\n",
    "        sonic_standing_1_clean[ :, :, 2 ] == 0\n",
    "    )\n",
    ")\n",
    "\n",
    "coords = np.argwhere( padding_mask )\n",
    "\n",
    "x0, y0 = coords.min( axis=0 )\n",
    "x1, y1 = coords.max( axis=0 ) + 1\n",
    "\n",
    "sonic_standing_1_clean = sonic_standing_1_clean[ x0:x1, y0:y1 ]\n",
    "\n",
    "plt.imshow( sonic_standing_1_clean )"
   ]
  },
  {
   "cell_type": "code",
   "execution_count": 83,
   "metadata": {},
   "outputs": [
    {
     "ename": "error",
     "evalue": "/io/opencv/modules/imgproc/src/templmatch.cpp:1102: error: (-215) (depth == 0 || depth == 5) && type == _templ.type() && _img.dims() <= 2 in function matchTemplate\n",
     "output_type": "error",
     "traceback": [
      "\u001b[0;31m---------------------------------------------------------------------------\u001b[0m",
      "\u001b[0;31merror\u001b[0m                                     Traceback (most recent call last)",
      "\u001b[0;32m<ipython-input-83-da9182e2f579>\u001b[0m in \u001b[0;36m<module>\u001b[0;34m()\u001b[0m\n\u001b[1;32m      9\u001b[0m \u001b[0mw\u001b[0m\u001b[0;34m,\u001b[0m \u001b[0mh\u001b[0m \u001b[0;34m=\u001b[0m \u001b[0msonic_standing_1_clean\u001b[0m\u001b[0;34m.\u001b[0m\u001b[0mshape\u001b[0m\u001b[0;34m[\u001b[0m \u001b[0;34m:\u001b[0m\u001b[0;34m-\u001b[0m\u001b[0;36m1\u001b[0m \u001b[0;34m]\u001b[0m\u001b[0;34m\u001b[0m\u001b[0m\n\u001b[1;32m     10\u001b[0m \u001b[0;34m\u001b[0m\u001b[0m\n\u001b[0;32m---> 11\u001b[0;31m \u001b[0mresults\u001b[0m \u001b[0;34m=\u001b[0m \u001b[0mcv\u001b[0m\u001b[0;34m.\u001b[0m\u001b[0mmatchTemplate\u001b[0m\u001b[0;34m(\u001b[0m \u001b[0mimg\u001b[0m\u001b[0;34m,\u001b[0m \u001b[0msonic_standing_1_clean\u001b[0m\u001b[0;34m,\u001b[0m \u001b[0;36m0\u001b[0m \u001b[0;34m)\u001b[0m\u001b[0;34m\u001b[0m\u001b[0m\n\u001b[0m\u001b[1;32m     12\u001b[0m \u001b[0mplt\u001b[0m\u001b[0;34m.\u001b[0m\u001b[0msubplots\u001b[0m\u001b[0;34m(\u001b[0m\u001b[0;34m)\u001b[0m\u001b[0;34m\u001b[0m\u001b[0m\n\u001b[1;32m     13\u001b[0m \u001b[0mplt\u001b[0m\u001b[0;34m.\u001b[0m\u001b[0mimshow\u001b[0m\u001b[0;34m(\u001b[0m \u001b[0mresults\u001b[0m \u001b[0;34m)\u001b[0m\u001b[0;34m\u001b[0m\u001b[0m\n",
      "\u001b[0;31merror\u001b[0m: /io/opencv/modules/imgproc/src/templmatch.cpp:1102: error: (-215) (depth == 0 || depth == 5) && type == _templ.type() && _img.dims() <= 2 in function matchTemplate\n"
     ]
    }
   ],
   "source": [
    "# https://docs.opencv.org/3.4.1/d4/dc6/tutorial_py_template_matching.html\n",
    "\n",
    "# img = frame.copy()\n",
    "img = np.full( ( frame.shape[ 0 ], frame.shape[ 1 ], frame.shape[ 2 ] + 1 ), 255 )\n",
    "img[ :, :, 0:3 ] = frame\n",
    "\n",
    "# Add alpha channel\n",
    "\n",
    "w, h = sonic_standing_1_clean.shape[ :-1 ]\n",
    "\n",
    "results = cv.matchTemplate( img, sonic_standing_1_clean, 0 )\n",
    "plt.subplots()\n",
    "plt.imshow( results )\n",
    "\n",
    "min_val, max_val, min_loc, max_loc = cv.minMaxLoc( results )\n",
    "top_left = max_loc\n",
    "bottom_right = ( top_left[ 0 ] + w, top_left[ 1 ] + h )\n",
    "\n",
    "cv.rectangle( img, top_left, bottom_right, 255, 2 )\n",
    "\n",
    "plt.subplots()\n",
    "plt.imshow( img )"
   ]
  }
 ],
 "metadata": {
  "kernelspec": {
   "display_name": "Python 3",
   "language": "python",
   "name": "python3"
  },
  "language_info": {
   "codemirror_mode": {
    "name": "ipython",
    "version": 3
   },
   "file_extension": ".py",
   "mimetype": "text/x-python",
   "name": "python",
   "nbconvert_exporter": "python",
   "pygments_lexer": "ipython3",
   "version": "3.6.5"
  }
 },
 "nbformat": 4,
 "nbformat_minor": 2
}
