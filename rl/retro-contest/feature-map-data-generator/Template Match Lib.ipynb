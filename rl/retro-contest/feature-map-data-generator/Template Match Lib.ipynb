{
 "cells": [
  {
   "cell_type": "code",
   "execution_count": 1,
   "metadata": {},
   "outputs": [],
   "source": [
    "import retro\n",
    "import scipy.misc\n",
    "import matplotlib.pyplot as plt\n",
    "import os\n",
    "import numpy as np\n",
    "import time\n",
    "\n",
    "from TemplateMatcher import TemplateMatcher\n",
    "\n",
    "env = None"
   ]
  },
  {
   "cell_type": "code",
   "execution_count": 2,
   "metadata": {},
   "outputs": [],
   "source": [
    "%reload_ext autoreload\n",
    "%autoreload 2\n",
    "%matplotlib inline"
   ]
  },
  {
   "cell_type": "code",
   "execution_count": 3,
   "metadata": {},
   "outputs": [],
   "source": [
    "if env is None:\n",
    "    env = retro.make(game='SonicTheHedgehog2-Genesis', state='EmeraldHillZone.Act1')\n",
    "_ = env.reset()\n",
    "\n",
    "frame, reward, done, info = env.step( env.action_space.sample() )"
   ]
  },
  {
   "cell_type": "code",
   "execution_count": 4,
   "metadata": {},
   "outputs": [
    {
     "name": "stderr",
     "output_type": "stream",
     "text": [
      "/home/mike/.pyenv/versions/3.6.5/lib/python3.6/site-packages/ipykernel_launcher.py:4: DeprecationWarning: `imread` is deprecated!\n",
      "`imread` is deprecated in SciPy 1.0.0, and will be removed in 1.2.0.\n",
      "Use ``imageio.imread`` instead.\n",
      "  after removing the cwd from sys.path.\n"
     ]
    }
   ],
   "source": [
    "sonic_dir = 'data/sonic2/sonic'\n",
    "sonic_files = os.listdir( sonic_dir )\n",
    "sonic_files.sort()\n",
    "sonics = [ scipy.misc.imread( os.path.join( sonic_dir, sonic_file ), mode='RGBA' ) for sonic_file in sonic_files ]"
   ]
  },
  {
   "cell_type": "code",
   "execution_count": 5,
   "metadata": {},
   "outputs": [],
   "source": [
    "def imageTo8BitColor( image ):\n",
    "    assert image.shape[ -1 ] == 3 or image.shape[ -1 ] == 4\n",
    "    \n",
    "    output_image = np.zeros( image.shape[ 0 : 2 ], dtype=np.uint8 )\n",
    "\n",
    "    output_image[ :, : ]  = ( image[ :, :, 0 ] / 32 ).astype( np.uint8 ) * 32 # << 4\n",
    "    output_image[ :, : ] += ( image[ :, :, 1 ] / 32 ).astype( np.uint8 ) * 4  # << 2 \n",
    "    output_image[ :, : ] += ( image[ :, :, 2 ] / 64 ).astype( np.uint8 )\n",
    "    \n",
    "    alpha = None\n",
    "    if image.shape[ -1 ] == 4:\n",
    "        alpha = image[ :, :, 3 ]\n",
    "\n",
    "    return output_image, alpha"
   ]
  },
  {
   "cell_type": "code",
   "execution_count": 6,
   "metadata": {},
   "outputs": [],
   "source": [
    "class EightBitTemplateMatching( TemplateMatcher ):\n",
    "    def preprocessFrame( self, frame ):\n",
    "        return imageTo8BitColor( frame )[ 0 ]\n",
    "\n",
    "    def preprocessTemplate( self, template ):\n",
    "        return imageTo8BitColor( template )"
   ]
  },
  {
   "cell_type": "code",
   "execution_count": 7,
   "metadata": {},
   "outputs": [
    {
     "name": "stdout",
     "output_type": "stream",
     "text": [
      "256 2\n",
      "asdf\n",
      "(224, 320)\n",
      "0.015953000000000106\n",
      "after\n"
     ]
    }
   ],
   "source": [
    "matcher = EightBitTemplateMatching( sonics )\n",
    "print( len( matcher._processed_templates ), len( matcher._processed_templates[ 0 ] ) )\n",
    "start_time = time.clock()\n",
    "store, tl, br, _ = matcher.matchTemplate( frame )\n",
    "print( time.clock() - start_time )\n",
    "print( 'after' )"
   ]
  },
  {
   "cell_type": "code",
   "execution_count": 8,
   "metadata": {},
   "outputs": [
    {
     "name": "stdout",
     "output_type": "stream",
     "text": [
      "before\n",
      "before\n",
      "asdf\n",
      "[72, 121, 75, 112]\n",
      "(49, 37)\n",
      "(224, 320)\n"
     ]
    },
    {
     "data": {
      "text/plain": [
       "(0.9920282363891602, (80, 77), (107, 116), 0.012258000000000102)"
      ]
     },
     "execution_count": 8,
     "metadata": {},
     "output_type": "execute_result"
    },
    {
     "data": {
      "image/png": "[encoded data removed]",
      "text/plain": [
       "<Figure size 432x288 with 1 Axes>"
      ]
     },
     "metadata": {},
     "output_type": "display_data"
    }
   ],
   "source": [
    "print( 'before' )\n",
    "start_time = time.clock()\n",
    "print( 'before' )\n",
    "matcher.matchTemplate( frame, ( tl, br ) )\n",
    "# print( time.clock() - start_time )"
   ]
  },
  {
   "cell_type": "code",
   "execution_count": null,
   "metadata": {},
   "outputs": [],
   "source": []
  }
 ],
 "metadata": {
  "kernelspec": {
   "display_name": "Python 3",
   "language": "python",
   "name": "python3"
  },
  "language_info": {
   "codemirror_mode": {
    "name": "ipython",
    "version": 3
   },
   "file_extension": ".py",
   "mimetype": "text/x-python",
   "name": "python",
   "nbconvert_exporter": "python",
   "pygments_lexer": "ipython3",
   "version": "3.6.5"
  }
 },
 "nbformat": 4,
 "nbformat_minor": 2
}
